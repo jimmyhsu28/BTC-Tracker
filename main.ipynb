{
 "cells": [
  {
   "cell_type": "code",
   "execution_count": 4,
   "id": "34edeca1",
   "metadata": {},
   "outputs": [
    {
     "name": "stdout",
     "output_type": "stream",
     "text": [
      "b'{\"symbol\":\"BTCUSDT\",\"price\":\"101786.22000000\"}'\n",
      "{'symbol': 'BTCUSDT', 'price': '101786.22000000'} <class 'dict'>\n",
      "BTC-USDT: 101786.22\n"
     ]
    }
   ],
   "source": [
    "url = \"https://api.binance.com/api/v3/ticker/price\"\n",
    "# C++ include <>\n",
    "import requests\n",
    "response = requests.get(url, params={\"symbol\": \"BTCUSDT\"})\n",
    "print(response.content)\n",
    "print(response.json(), type(response.json()))\n",
    "price = float(response.json()['price'])\n",
    "print(\"BTC-USDT:\", price)"
   ]
  },
  {
   "cell_type": "markdown",
   "id": "3168ddd9",
   "metadata": {},
   "source": [
    "# Dict Usage\n",
    "\n",
    "Dict 基本上是一個 key-value pair 的資料結構。\n",
    "\n",
    "## 性質\n",
    "- **無序**（Python 3.7+ 實作上維持插入順序）  \n",
    "- **可變**（Mutable）：可新增、修改、刪除  \n",
    "- **Key 唯一且~~可 hash~~**，Value 無限制  \n",
    "- **查找/插入平均** O(1)\n",
    "\n",
    "## 語法\n",
    "```python\n",
    "# 建立\n",
    "d = {}                     # 空 dict\n",
    "d = {'a': 1, 'b': 2}       # 初始化\n",
    "\n",
    "# 新增 / 修改\n",
    "d['c'] = 3                 # {'a':1,'b':2,'c':3}\n",
    "\n",
    "# 取值\n",
    "x = d['a']                 # 1\n",
    "y = d.get('x')             # None，key 不存在不報錯\n",
    "y = d.get('x', 0)          # 0，提供預設值\n",
    "\n",
    "# 刪除\n",
    "del d['b']                 # {'a':1,'c':3}\n",
    "v = d.pop('c')             # v = 3\n",
    "\n",
    "# 其他常用\n",
    "keys = d.keys()            # dict_keys(['a'])\n",
    "vals = d.values()          # dict_values([1])\n",
    "items = d.items()          # dict_items([('a',1)])\n",
    "for k, v in d.items():\n",
    "    print(k, v)\n"
   ]
  },
  {
   "cell_type": "code",
   "execution_count": null,
   "id": "0e0a487e",
   "metadata": {},
   "outputs": [
    {
     "name": "stdout",
     "output_type": "stream",
     "text": [
      "[1, 5, 3]\n"
     ]
    },
    {
     "ename": "TypeError",
     "evalue": "'tuple' object does not support item assignment",
     "output_type": "error",
     "traceback": [
      "\u001b[1;31m---------------------------------------------------------------------------\u001b[0m",
      "\u001b[1;31mTypeError\u001b[0m                                 Traceback (most recent call last)",
      "Cell \u001b[1;32mIn[8], line 7\u001b[0m\n\u001b[0;32m      5\u001b[0m \u001b[38;5;66;03m# Immutable\u001b[39;00m\n\u001b[0;32m      6\u001b[0m T \u001b[38;5;241m=\u001b[39m (\u001b[38;5;241m1\u001b[39m, \u001b[38;5;241m2\u001b[39m, \u001b[38;5;241m3\u001b[39m)\n\u001b[1;32m----> 7\u001b[0m \u001b[43mT\u001b[49m\u001b[43m[\u001b[49m\u001b[38;5;241;43m1\u001b[39;49m\u001b[43m]\u001b[49m \u001b[38;5;241m=\u001b[39m \u001b[38;5;241m5\u001b[39m\n\u001b[0;32m      8\u001b[0m \u001b[38;5;28mprint\u001b[39m(T)\n",
      "\u001b[1;31mTypeError\u001b[0m: 'tuple' object does not support item assignment"
     ]
    }
   ],
   "source": [
    "# Mutable\n",
    "L = [1, 2, 3]\n",
    "L[1] = 5\n",
    "print(L)\n",
    "# Immutable\n",
    "T = (1, 2, 3)\n",
    "# T[1] = 5\n",
    "print(T)\n"
   ]
  },
  {
   "cell_type": "code",
   "execution_count": null,
   "id": "9f0986e8",
   "metadata": {},
   "outputs": [
    {
     "name": "stdout",
     "output_type": "stream",
     "text": [
      "[5, 4, 2, 2, 2, 5, 3, 2, 2, 4]\n"
     ]
    }
   ],
   "source": [
    "# Dict Example\n",
    "import random\n",
    "random.seed(7122)\n",
    "L = [random.randint(1, 5) for _ in range(10)]\n",
    "# [5, 4, 2, 2, 2, 5, 3, 2, 2, 4] -> {2: 4, 3: 1, 4: 2, 5: 3}\n",
    "print(L)"
   ]
  }
 ],
 "metadata": {
  "kernelspec": {
   "display_name": "base",
   "language": "python",
   "name": "python3"
  },
  "language_info": {
   "codemirror_mode": {
    "name": "ipython",
    "version": 3
   },
   "file_extension": ".py",
   "mimetype": "text/x-python",
   "name": "python",
   "nbconvert_exporter": "python",
   "pygments_lexer": "ipython3",
   "version": "3.11.7"
  }
 },
 "nbformat": 4,
 "nbformat_minor": 5
}
