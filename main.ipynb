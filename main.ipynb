{
 "cells": [
  {
   "cell_type": "code",
   "execution_count": 31,
   "id": "34edeca1",
   "metadata": {},
   "outputs": [
    {
     "name": "stdout",
     "output_type": "stream",
     "text": [
      "b'{\"symbol\":\"BTCUSDT\",\"price\":\"104861.43000000\"}'\n",
      "{'symbol': 'BTCUSDT', 'price': '104861.43000000'} <class 'dict'>\n",
      "BTC-USDT: 104861.43\n"
     ]
    }
   ],
   "source": [
    "url = \"https://api.binance.com/api/v3/ticker/price\"\n",
    "# C++ include <>\n",
    "import requests\n",
    "response = requests.get(url, params={\"symbol\": \"BTCUSDT\"})\n",
    "print(response.content)\n",
    "print(response.json(), type(response.json()))\n",
    "price = float(response.json()['price'])\n",
    "print(\"BTC-USDT:\", price)"
   ]
  },
  {
   "cell_type": "markdown",
   "id": "3168ddd9",
   "metadata": {},
   "source": [
    "# Dict Usage\n",
    "\n",
    "Dict 基本上是一個 key-value pair 的資料結構。\n",
    "\n",
    "## 性質\n",
    "- **無序**（Python 3.7+ 實作上維持插入順序）  \n",
    "- **可變**（Mutable）：可新增、修改、刪除  \n",
    "- **Key 唯一且~~可 hash~~**，Value 無限制  \n",
    "- **查找/插入平均** O(1)\n",
    "\n",
    "## 語法\n",
    "```python\n",
    "# 建立\n",
    "d = {}                     # 空 dict\n",
    "d = {'a': 1, 'b': 2}       # 初始化\n",
    "\n",
    "# 新增 / 修改\n",
    "d['c'] = 3                 # {'a':1,'b':2,'c':3}\n",
    "\n",
    "# 取值\n",
    "x = d['a']                 # 1\n",
    "y = d.get('x')             # None，key 不存在不報錯\n",
    "y = d.get('x', 0)          # 0，提供預設值\n",
    "\n",
    "# 刪除\n",
    "del d['b']                 # {'a':1,'c':3}\n",
    "v = d.pop('c')             # v = 3\n",
    "\n",
    "# 其他常用\n",
    "keys = d.keys()            # dict_keys(['a'])\n",
    "vals = d.values()          # dict_values([1])\n",
    "items = d.items()          # dict_items([('a',1)])\n",
    "for k, v in d.items():\n",
    "    print(k, v)\n"
   ]
  },
  {
   "cell_type": "code",
   "execution_count": 32,
   "id": "0e0a487e",
   "metadata": {},
   "outputs": [
    {
     "name": "stdout",
     "output_type": "stream",
     "text": [
      "[1, 5, 3]\n",
      "(1, 2, 3)\n"
     ]
    }
   ],
   "source": [
    "# Mutable\n",
    "L = [1, 2, 3]\n",
    "L[1] = 5\n",
    "print(L)\n",
    "# Immutable\n",
    "T = (1, 2, 3)\n",
    "# T[1] = 5\n",
    "print(T)\n"
   ]
  },
  {
   "cell_type": "code",
   "execution_count": 33,
   "id": "9f0986e8",
   "metadata": {},
   "outputs": [
    {
     "name": "stdout",
     "output_type": "stream",
     "text": [
      "[5, 4, 2, 2, 2, 5, 3, 2, 2, 4]\n",
      "{5: 2, 4: 2, 2: 5, 3: 1}\n"
     ]
    }
   ],
   "source": [
    "# Dict Example\n",
    "import random\n",
    "random.seed(7122)\n",
    "L = [random.randint(1, 5) for _ in range(10)]\n",
    "# [5, 4, 2, 2, 2, 5, 3, 2, 2, 4] -> {2: 4, 3: 1, 4: 2, 5: 3}\n",
    "count_dict = {}\n",
    "for number in L:\n",
    "    if number in count_dict:\n",
    "        count_dict[number] += 1\n",
    "    else:\n",
    "        count_dict[number] = 1\n",
    "\n",
    "\n",
    "print(L)\n",
    "print(count_dict)"
   ]
  },
  {
   "cell_type": "markdown",
   "id": "1b219a51",
   "metadata": {},
   "source": [
    "# 5/15 作業\n",
    "根據 binance 的 price list，以及篩選的 filter_list，做出以下的dict。\n",
    "舉例來說，`filter_list = [\"BTCUSDT\", \"ETHUSDT\", \"ETHBTC\"]`\n",
    "那麼結果 result 應該要是\n",
    "```python\n",
    "{\n",
    "    \"BTCUSDT\": ...,\n",
    "    \"ETHUSDT\": ...,\n",
    "    \"ETHBTC\": ...,\n",
    "}\n",
    "```"
   ]
  },
  {
   "cell_type": "code",
   "execution_count": 34,
   "id": "0926c606",
   "metadata": {},
   "outputs": [
    {
     "name": "stdout",
     "output_type": "stream",
     "text": [
      "<Response [200]>\n",
      "{'ETHBTC': 0.02485, 'BTCUSDT': 104861.42, 'ETHUSDT': 2606.43}\n"
     ]
    }
   ],
   "source": [
    "# 作業: \n",
    "url = \"https://api.binance.com/api/v3/ticker/price\"\n",
    "# C++ include <>\n",
    "import requests\n",
    "response = requests.get(url)\n",
    "print(response)\n",
    "price_list = response.json()\n",
    "filter_list = [\"BTCUSDT\", \"ETHUSDT\", \"ETHBTC\",]\n",
    "result = {}\n",
    "for item in price_list:\n",
    "    if item[\"symbol\"] in filter_list:\n",
    "        result[item[\"symbol\"]] = float(item[\"price\"])\n",
    "print(result)\n",
    "\n",
    "# 結果要是 "
   ]
  },
  {
   "cell_type": "markdown",
   "id": "619930c2",
   "metadata": {},
   "source": [
    "# List 的操作\n",
    "\n",
    "* 宣告空的 list: `L = []`\n",
    "* 一開始裡面有東西: `L = [1, '2', 3.0]`\n",
    "* 把一個東西放在 L 的屁股: `L.append(elem)`\n",
    "  * 等價於 C++ 的 vector 的 `V.push_back(elem)`"
   ]
  },
  {
   "cell_type": "code",
   "execution_count": 35,
   "id": "2bbc235b",
   "metadata": {},
   "outputs": [
    {
     "name": "stdout",
     "output_type": "stream",
     "text": [
      "[1, 12]\n"
     ]
    }
   ],
   "source": [
    "L = [1]\n",
    "L.append(12)\n",
    "print(L)"
   ]
  },
  {
   "cell_type": "code",
   "execution_count": 36,
   "id": "31bfcdf4",
   "metadata": {},
   "outputs": [],
   "source": [
    "url = \"https://api.binance.com/api/v3/klines\"\n",
    "import requests\n",
    "# parameters : 參數\n",
    "# interval : 區間\n",
    "klines_1m = requests.get(url, params={\"symbol\": \"BTCUSDT\", \"interval\": \"1m\"}).json()\n",
    "from pprint import pprint\n",
    "'''\n",
    "  [\n",
    "    1499040000000,      // Kline open time\n",
    "    \"0.01634790\",       // Open price\n",
    "    \"0.80000000\",       // High price\n",
    "    \"0.01575800\",       // Low price\n",
    "    \"0.01577100\",       // Close price\n",
    "    \"148976.11427815\",  // Volume\n",
    "    1499644799999,      // Kline Close time\n",
    "    \"2434.19055334\",    // Quote asset volume\n",
    "    308,                // Number of trades\n",
    "    \"1756.87402397\",    // Taker buy base asset volume\n",
    "    \"28.46694368\",      // Taker buy quote asset volume\n",
    "    \"0\"                 // Unused field, ignore.\n",
    "  ]\n",
    "'''\n",
    "# Collect open price\n",
    "import datetime\n",
    "timestamps = []\n",
    "open_prices = []\n",
    "for unit in klines_1m:\n",
    "    # print(unit)\n",
    "    ts = unit[0] // 1000\n",
    "    tz_utc_plus_8 = datetime.timezone(datetime.timedelta(hours=8))\n",
    "    dt = datetime.datetime.fromtimestamp(ts, tz=tz_utc_plus_8)\n",
    "    # print(dt, ts, unit[1])\n"
   ]
  },
  {
   "cell_type": "code",
   "execution_count": 37,
   "id": "fbc58d95",
   "metadata": {},
   "outputs": [
    {
     "name": "stdout",
     "output_type": "stream",
     "text": [
      "[]\n",
      "[]\n"
     ]
    },
    {
     "data": {
      "image/png": "[encoded data removed]",
      "text/plain": [
       "<Figure size 640x480 with 1 Axes>"
      ]
     },
     "metadata": {},
     "output_type": "display_data"
    }
   ],
   "source": [
    "import matplotlib.pyplot as plt\n",
    "# python -m pip install matplotlib\n",
    "print(timestamps)\n",
    "print(open_prices)\n",
    "plt.plot(timestamps, open_prices)\n",
    "plt.show()"
   ]
  },
  {
   "cell_type": "code",
   "execution_count": 53,
   "id": "7adce8cf",
   "metadata": {},
   "outputs": [
    {
     "name": "stdout",
     "output_type": "stream",
     "text": [
      "1749089520000 1749119460000\n",
      "1749059520000 1749089460000\n",
      "1749029520000 1749059460000\n",
      "1748999520000 1749029460000\n"
     ]
    }
   ],
   "source": [
    "# 連續的線\n",
    "cur_endtime = None\n",
    "timestamps = []\n",
    "open_prices = []\n",
    "for _ in range(4):\n",
    "    if cur_endtime is None:\n",
    "        klines_1m = requests.get(url, params={\"symbol\": \"BTCUSDT\", \"interval\": \"1m\"}).json()\n",
    "    else:\n",
    "        klines_1m = requests.get(url, params={\"symbol\": \"BTCUSDT\", \"interval\": \"1m\", \"endTime\": cur_endtime}).json()\n",
    "\n",
    "    print(klines_1m[0][0], klines_1m[-1][0])\n",
    "    for k in (klines_1m)[::-1]:\n",
    "        timestamps.append(k[0])\n",
    "        open_prices.append(float(k[1]))\n",
    "    cur_endtime = str(int(klines_1m[0][0]) - 60 * 1000)\n",
    "timestamps=timestamps[::-1]\n",
    "open_prices=open_prices[::-1]\n",
    "percent_changes = [0]\n",
    "for i in range(1, len(open_prices)):\n",
    "    previous = open_prices[i-1]\n",
    "    current = open_prices[i]\n",
    "    changes = ((current - previous) / previous)\n",
    "    percent_changes.append(changes)\n",
    "# 把連續的k線串起來"
   ]
  },
  {
   "cell_type": "code",
   "execution_count": 55,
   "id": "057c3841",
   "metadata": {},
   "outputs": [
    {
     "data": {
      "image/png": "[encoded data removed]",
      "text/plain": [
       "<Figure size 640x480 with 1 Axes>"
      ]
     },
     "metadata": {},
     "output_type": "display_data"
    }
   ],
   "source": [
    "import matplotlib.pyplot as plt\n",
    "# python -m pip install matplotlib\n",
    "plt.plot(timestamps, percent_changes)\n",
    "plt.show()"
   ]
  },
  {
   "cell_type": "code",
   "execution_count": null,
   "id": "5754955b",
   "metadata": {},
   "outputs": [],
   "source": [
    "from binance.spot import Spot\n",
    "\n",
    "client = Spot()\n",
    "\n",
    "# Get server timestamp\n",
    "print(client.time())\n",
    "# Get klines of BTCUSDT at 1m interval\n",
    "print(client.klines(\"BTCUSDT\", \"1m\"))\n",
    "# Get last 10 klines of BNBUSDT at 1h interval\n",
    "print(client.klines(\"BNBUSDT\", \"1h\", limit=10))\n",
    "\n",
    "# API key/secret are required for user data endpoints\n",
    "client = Spot(api_key='<api_key>', api_secret='<api_secret>')\n",
    "\n",
    "# Get account and balance information\n",
    "print(client.account())\n",
    "\n"
   ]
  },
  {
   "cell_type": "code",
   "execution_count": null,
   "id": "f5b6eb89",
   "metadata": {},
   "outputs": [
    {
     "name": "stdout",
     "output_type": "stream",
     "text": [
      "買：\n",
      "價格: 107649.34000000, 數量: 5.55259000\n",
      "價格: 107649.33000000, 數量: 0.00005000\n",
      "價格: 107649.31000000, 數量: 0.00017000\n",
      "價格: 107649.30000000, 數量: 0.00005000\n",
      "價格: 107649.13000000, 數量: 0.00005000\n",
      "賣：\n",
      "價格: 107649.35000000, 數量: 0.87954000\n",
      "價格: 107649.36000000, 數量: 0.04462000\n",
      "價格: 107649.37000000, 數量: 0.00028000\n",
      "價格: 107649.77000000, 數量: 0.00005000\n",
      "價格: 107649.78000000, 數量: 0.00005000\n"
     ]
    }
   ],
   "source": [
    "import requests\n",
    "\n",
    "url = \"https://api.binance.com/api/v3/depth\"\n",
    "params = {\"symbol\": \"BTCUSDT\", \"limit\": 5}\n",
    "\n",
    "response = requests.get(url, params=params)\n",
    "data = response.json()\n",
    "\n",
    "print(\"買：\")\n",
    "for bid in data['bids']:\n",
    "    p, q = bid\n",
    "    print(f\"價格: {p}, 數量: {q}\")\n",
    "\n",
    "print(\"賣：\")\n",
    "for ask in data['asks']:\n",
    "    p, q = ask\n",
    "    print(f\"價格: {p}, 數量: {q}\")\n"
   ]
  }
 ],
 "metadata": {
  "kernelspec": {
   "display_name": "Python 3",
   "language": "python",
   "name": "python3"
  },
  "language_info": {
   "codemirror_mode": {
    "name": "ipython",
    "version": 3
   },
   "file_extension": ".py",
   "mimetype": "text/x-python",
   "name": "python",
   "nbconvert_exporter": "python",
   "pygments_lexer": "ipython3",
   "version": "3.13.3"
  }
 },
 "nbformat": 4,
 "nbformat_minor": 5
}
